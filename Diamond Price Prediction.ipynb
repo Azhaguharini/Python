{
 "cells": [
  {
   "cell_type": "markdown",
   "metadata": {},
   "source": [
    "# Diamond Price Prediction"
   ]
  },
  {
   "cell_type": "code",
   "execution_count": 73,
   "metadata": {},
   "outputs": [],
   "source": [
    "#importing libraries\n",
    "import pandas as pd\n",
    "import numpy as np\n",
    "import matplotlib.pyplot as plt\n",
    "import seaborn as sns\n",
    "\n",
    "%matplotlib inline\n",
    "import warnings\n",
    "warnings.filterwarnings('ignore')"
   ]
  },
  {
   "cell_type": "code",
   "execution_count": 74,
   "metadata": {},
   "outputs": [],
   "source": [
    "#reading files\n",
    "data = pd.read_csv(\"diamonds.csv\")"
   ]
  },
  {
   "cell_type": "code",
   "execution_count": 75,
   "metadata": {},
   "outputs": [
    {
     "data": {
      "text/html": [
       "<div>\n",
       "<style scoped>\n",
       "    .dataframe tbody tr th:only-of-type {\n",
       "        vertical-align: middle;\n",
       "    }\n",
       "\n",
       "    .dataframe tbody tr th {\n",
       "        vertical-align: top;\n",
       "    }\n",
       "\n",
       "    .dataframe thead th {\n",
       "        text-align: right;\n",
       "    }\n",
       "</style>\n",
       "<table border=\"1\" class=\"dataframe\">\n",
       "  <thead>\n",
       "    <tr style=\"text-align: right;\">\n",
       "      <th></th>\n",
       "      <th>Unnamed: 0</th>\n",
       "      <th>carat</th>\n",
       "      <th>cut</th>\n",
       "      <th>color</th>\n",
       "      <th>clarity</th>\n",
       "      <th>depth</th>\n",
       "      <th>table</th>\n",
       "      <th>price</th>\n",
       "      <th>x</th>\n",
       "      <th>y</th>\n",
       "      <th>z</th>\n",
       "    </tr>\n",
       "  </thead>\n",
       "  <tbody>\n",
       "    <tr>\n",
       "      <th>0</th>\n",
       "      <td>1</td>\n",
       "      <td>0.23</td>\n",
       "      <td>Ideal</td>\n",
       "      <td>E</td>\n",
       "      <td>SI2</td>\n",
       "      <td>61.5</td>\n",
       "      <td>55.0</td>\n",
       "      <td>326</td>\n",
       "      <td>3.95</td>\n",
       "      <td>3.98</td>\n",
       "      <td>2.43</td>\n",
       "    </tr>\n",
       "    <tr>\n",
       "      <th>1</th>\n",
       "      <td>2</td>\n",
       "      <td>0.21</td>\n",
       "      <td>Premium</td>\n",
       "      <td>E</td>\n",
       "      <td>SI1</td>\n",
       "      <td>59.8</td>\n",
       "      <td>61.0</td>\n",
       "      <td>326</td>\n",
       "      <td>3.89</td>\n",
       "      <td>3.84</td>\n",
       "      <td>2.31</td>\n",
       "    </tr>\n",
       "    <tr>\n",
       "      <th>2</th>\n",
       "      <td>3</td>\n",
       "      <td>0.23</td>\n",
       "      <td>Good</td>\n",
       "      <td>E</td>\n",
       "      <td>VS1</td>\n",
       "      <td>56.9</td>\n",
       "      <td>65.0</td>\n",
       "      <td>327</td>\n",
       "      <td>4.05</td>\n",
       "      <td>4.07</td>\n",
       "      <td>2.31</td>\n",
       "    </tr>\n",
       "    <tr>\n",
       "      <th>3</th>\n",
       "      <td>4</td>\n",
       "      <td>0.29</td>\n",
       "      <td>Premium</td>\n",
       "      <td>I</td>\n",
       "      <td>VS2</td>\n",
       "      <td>62.4</td>\n",
       "      <td>58.0</td>\n",
       "      <td>334</td>\n",
       "      <td>4.20</td>\n",
       "      <td>4.23</td>\n",
       "      <td>2.63</td>\n",
       "    </tr>\n",
       "    <tr>\n",
       "      <th>4</th>\n",
       "      <td>5</td>\n",
       "      <td>0.31</td>\n",
       "      <td>Good</td>\n",
       "      <td>J</td>\n",
       "      <td>SI2</td>\n",
       "      <td>63.3</td>\n",
       "      <td>58.0</td>\n",
       "      <td>335</td>\n",
       "      <td>4.34</td>\n",
       "      <td>4.35</td>\n",
       "      <td>2.75</td>\n",
       "    </tr>\n",
       "  </tbody>\n",
       "</table>\n",
       "</div>"
      ],
      "text/plain": [
       "   Unnamed: 0  carat      cut color clarity  depth  table  price     x     y  \\\n",
       "0           1   0.23    Ideal     E     SI2   61.5   55.0    326  3.95  3.98   \n",
       "1           2   0.21  Premium     E     SI1   59.8   61.0    326  3.89  3.84   \n",
       "2           3   0.23     Good     E     VS1   56.9   65.0    327  4.05  4.07   \n",
       "3           4   0.29  Premium     I     VS2   62.4   58.0    334  4.20  4.23   \n",
       "4           5   0.31     Good     J     SI2   63.3   58.0    335  4.34  4.35   \n",
       "\n",
       "      z  \n",
       "0  2.43  \n",
       "1  2.31  \n",
       "2  2.31  \n",
       "3  2.63  \n",
       "4  2.75  "
      ]
     },
     "execution_count": 75,
     "metadata": {},
     "output_type": "execute_result"
    }
   ],
   "source": [
    "#displays first five rows of a table\n",
    "data.head()"
   ]
  },
  {
   "cell_type": "code",
   "execution_count": 76,
   "metadata": {},
   "outputs": [
    {
     "data": {
      "text/plain": [
       "(53940, 11)"
      ]
     },
     "execution_count": 76,
     "metadata": {},
     "output_type": "execute_result"
    }
   ],
   "source": [
    "data.shape"
   ]
  },
  {
   "cell_type": "code",
   "execution_count": 77,
   "metadata": {},
   "outputs": [
    {
     "name": "stdout",
     "output_type": "stream",
     "text": [
      "<class 'pandas.core.frame.DataFrame'>\n",
      "RangeIndex: 53940 entries, 0 to 53939\n",
      "Data columns (total 11 columns):\n",
      " #   Column      Non-Null Count  Dtype  \n",
      "---  ------      --------------  -----  \n",
      " 0   Unnamed: 0  53940 non-null  int64  \n",
      " 1   carat       53940 non-null  float64\n",
      " 2   cut         53940 non-null  object \n",
      " 3   color       53940 non-null  object \n",
      " 4   clarity     53940 non-null  object \n",
      " 5   depth       53940 non-null  float64\n",
      " 6   table       53940 non-null  float64\n",
      " 7   price       53940 non-null  int64  \n",
      " 8   x           53940 non-null  float64\n",
      " 9   y           53940 non-null  float64\n",
      " 10  z           53940 non-null  float64\n",
      "dtypes: float64(6), int64(2), object(3)\n",
      "memory usage: 4.5+ MB\n"
     ]
    }
   ],
   "source": [
    "data.info()"
   ]
  },
  {
   "cell_type": "code",
   "execution_count": 78,
   "metadata": {},
   "outputs": [],
   "source": [
    "#data cleaning\n",
    "data=data.drop(['Unnamed: 0'], axis = 'columns')"
   ]
  },
  {
   "cell_type": "code",
   "execution_count": 79,
   "metadata": {},
   "outputs": [
    {
     "data": {
      "image/png": "[encoded data removed]",
      "text/plain": [
       "<Figure size 432x288 with 1 Axes>"
      ]
     },
     "metadata": {
      "needs_background": "light"
     },
     "output_type": "display_data"
    }
   ],
   "source": [
    "#scatter plot of carat and price data\n",
    "import matplotlib.pyplot as plt\n",
    "\n",
    "x = data['carat']\n",
    "y = data['price']\n",
    "plt.scatter(x,y)\n",
    "plt.show()"
   ]
  },
  {
   "cell_type": "code",
   "execution_count": 80,
   "metadata": {},
   "outputs": [
    {
     "data": {
      "image/png": "[encoded data removed]",
      "text/plain": [
       "<Figure size 432x288 with 1 Axes>"
      ]
     },
     "metadata": {
      "needs_background": "light"
     },
     "output_type": "display_data"
    }
   ],
   "source": [
    "x = data['clarity']\n",
    "y = data['price']\n",
    "plt.scatter(x,y)\n",
    "plt.show()"
   ]
  },
  {
   "cell_type": "code",
   "execution_count": 81,
   "metadata": {},
   "outputs": [
    {
     "data": {
      "image/png": "[encoded data removed]",
      "text/plain": [
       "<Figure size 432x288 with 1 Axes>"
      ]
     },
     "metadata": {
      "needs_background": "light"
     },
     "output_type": "display_data"
    }
   ],
   "source": [
    "#plotting cut vs price data using boxplot\n",
    "plt=sns.boxplot(data['cut'],data['price'])"
   ]
  },
  {
   "cell_type": "code",
   "execution_count": 82,
   "metadata": {},
   "outputs": [
    {
     "data": {
      "image/png": "[encoded data removed]",
      "text/plain": [
       "<Figure size 432x288 with 1 Axes>"
      ]
     },
     "metadata": {
      "needs_background": "light"
     },
     "output_type": "display_data"
    }
   ],
   "source": [
    "plt=sns.boxplot(data['clarity'],data['price'])"
   ]
  },
  {
   "cell_type": "code",
   "execution_count": 83,
   "metadata": {},
   "outputs": [
    {
     "data": {
      "image/png": "[encoded data removed]",
      "text/plain": [
       "<Figure size 432x288 with 1 Axes>"
      ]
     },
     "metadata": {
      "needs_background": "light"
     },
     "output_type": "display_data"
    }
   ],
   "source": [
    "plt=sns.boxplot(data['color'],data['price'])"
   ]
  },
  {
   "cell_type": "code",
   "execution_count": 84,
   "metadata": {},
   "outputs": [
    {
     "name": "stdout",
     "output_type": "stream",
     "text": [
      "       carat        cut color clarity  depth  table  price     x     y     z  \\\n",
      "0       0.23      Ideal     E     SI2   61.5   55.0    326  3.95  3.98  2.43   \n",
      "1       0.21    Premium     E     SI1   59.8   61.0    326  3.89  3.84  2.31   \n",
      "2       0.23       Good     E     VS1   56.9   65.0    327  4.05  4.07  2.31   \n",
      "3       0.29    Premium     I     VS2   62.4   58.0    334  4.20  4.23  2.63   \n",
      "4       0.31       Good     J     SI2   63.3   58.0    335  4.34  4.35  2.75   \n",
      "...      ...        ...   ...     ...    ...    ...    ...   ...   ...   ...   \n",
      "53935   0.72      Ideal     D     SI1   60.8   57.0   2757  5.75  5.76  3.50   \n",
      "53936   0.72       Good     D     SI1   63.1   55.0   2757  5.69  5.75  3.61   \n",
      "53937   0.70  Very Good     D     SI1   62.8   60.0   2757  5.66  5.68  3.56   \n",
      "53938   0.86    Premium     H     SI2   61.0   58.0   2757  6.15  6.12  3.74   \n",
      "53939   0.75      Ideal     D     SI2   62.2   55.0   2757  5.83  5.87  3.64   \n",
      "\n",
      "             size  \n",
      "0       38.202030  \n",
      "1       34.505856  \n",
      "2       38.076885  \n",
      "3       46.724580  \n",
      "4       51.917250  \n",
      "...           ...  \n",
      "53935  115.920000  \n",
      "53936  118.110175  \n",
      "53937  114.449728  \n",
      "53938  140.766120  \n",
      "53939  124.568444  \n",
      "\n",
      "[53940 rows x 11 columns]\n"
     ]
    }
   ],
   "source": [
    "# Calculating size of the diamond\n",
    "data[\"size\"] = data[\"x\"] * data[\"y\"] * data[\"z\"]\n",
    "print(data)"
   ]
  },
  {
   "cell_type": "code",
   "execution_count": 85,
   "metadata": {},
   "outputs": [
    {
     "data": {
      "image/png": "[encoded data removed]",
      "text/plain": [
       "<Figure size 432x288 with 1 Axes>"
      ]
     },
     "metadata": {
      "needs_background": "light"
     },
     "output_type": "display_data"
    }
   ],
   "source": [
    "#scatter plot of size vs price data\n",
    "import matplotlib.pyplot as plt\n",
    "x = data['size']\n",
    "y = data['price']\n",
    "plt.scatter(x,y)\n",
    "plt.show()"
   ]
  },
  {
   "cell_type": "code",
   "execution_count": 86,
   "metadata": {},
   "outputs": [
    {
     "data": {
      "image/png": "[encoded data removed]",
      "text/plain": [
       "<Figure size 432x288 with 1 Axes>"
      ]
     },
     "metadata": {
      "needs_background": "light"
     },
     "output_type": "display_data"
    }
   ],
   "source": [
    "#line plot of size vs price data\n",
    "import matplotlib.pyplot as plt\n",
    "plt.plot(data['size'],data['price'])\n",
    " \n",
    "plt.show()"
   ]
  },
  {
   "cell_type": "code",
   "execution_count": 87,
   "metadata": {},
   "outputs": [
    {
     "data": {
      "text/html": [
       "<div>\n",
       "<style scoped>\n",
       "    .dataframe tbody tr th:only-of-type {\n",
       "        vertical-align: middle;\n",
       "    }\n",
       "\n",
       "    .dataframe tbody tr th {\n",
       "        vertical-align: top;\n",
       "    }\n",
       "\n",
       "    .dataframe thead th {\n",
       "        text-align: right;\n",
       "    }\n",
       "</style>\n",
       "<table border=\"1\" class=\"dataframe\">\n",
       "  <thead>\n",
       "    <tr style=\"text-align: right;\">\n",
       "      <th></th>\n",
       "      <th>carat</th>\n",
       "      <th>depth</th>\n",
       "      <th>table</th>\n",
       "      <th>price</th>\n",
       "      <th>x</th>\n",
       "      <th>y</th>\n",
       "      <th>z</th>\n",
       "      <th>size</th>\n",
       "    </tr>\n",
       "  </thead>\n",
       "  <tbody>\n",
       "    <tr>\n",
       "      <th>carat</th>\n",
       "      <td>1.000000</td>\n",
       "      <td>0.028224</td>\n",
       "      <td>0.181618</td>\n",
       "      <td>0.921591</td>\n",
       "      <td>0.975094</td>\n",
       "      <td>0.951722</td>\n",
       "      <td>0.953387</td>\n",
       "      <td>0.976308</td>\n",
       "    </tr>\n",
       "    <tr>\n",
       "      <th>depth</th>\n",
       "      <td>0.028224</td>\n",
       "      <td>1.000000</td>\n",
       "      <td>-0.295779</td>\n",
       "      <td>-0.010647</td>\n",
       "      <td>-0.025289</td>\n",
       "      <td>-0.029341</td>\n",
       "      <td>0.094924</td>\n",
       "      <td>0.009157</td>\n",
       "    </tr>\n",
       "    <tr>\n",
       "      <th>table</th>\n",
       "      <td>0.181618</td>\n",
       "      <td>-0.295779</td>\n",
       "      <td>1.000000</td>\n",
       "      <td>0.127134</td>\n",
       "      <td>0.195344</td>\n",
       "      <td>0.183760</td>\n",
       "      <td>0.150929</td>\n",
       "      <td>0.167400</td>\n",
       "    </tr>\n",
       "    <tr>\n",
       "      <th>price</th>\n",
       "      <td>0.921591</td>\n",
       "      <td>-0.010647</td>\n",
       "      <td>0.127134</td>\n",
       "      <td>1.000000</td>\n",
       "      <td>0.884435</td>\n",
       "      <td>0.865421</td>\n",
       "      <td>0.861249</td>\n",
       "      <td>0.902385</td>\n",
       "    </tr>\n",
       "    <tr>\n",
       "      <th>x</th>\n",
       "      <td>0.975094</td>\n",
       "      <td>-0.025289</td>\n",
       "      <td>0.195344</td>\n",
       "      <td>0.884435</td>\n",
       "      <td>1.000000</td>\n",
       "      <td>0.974701</td>\n",
       "      <td>0.970772</td>\n",
       "      <td>0.956564</td>\n",
       "    </tr>\n",
       "    <tr>\n",
       "      <th>y</th>\n",
       "      <td>0.951722</td>\n",
       "      <td>-0.029341</td>\n",
       "      <td>0.183760</td>\n",
       "      <td>0.865421</td>\n",
       "      <td>0.974701</td>\n",
       "      <td>1.000000</td>\n",
       "      <td>0.952006</td>\n",
       "      <td>0.975143</td>\n",
       "    </tr>\n",
       "    <tr>\n",
       "      <th>z</th>\n",
       "      <td>0.953387</td>\n",
       "      <td>0.094924</td>\n",
       "      <td>0.150929</td>\n",
       "      <td>0.861249</td>\n",
       "      <td>0.970772</td>\n",
       "      <td>0.952006</td>\n",
       "      <td>1.000000</td>\n",
       "      <td>0.950065</td>\n",
       "    </tr>\n",
       "    <tr>\n",
       "      <th>size</th>\n",
       "      <td>0.976308</td>\n",
       "      <td>0.009157</td>\n",
       "      <td>0.167400</td>\n",
       "      <td>0.902385</td>\n",
       "      <td>0.956564</td>\n",
       "      <td>0.975143</td>\n",
       "      <td>0.950065</td>\n",
       "      <td>1.000000</td>\n",
       "    </tr>\n",
       "  </tbody>\n",
       "</table>\n",
       "</div>"
      ],
      "text/plain": [
       "          carat     depth     table     price         x         y         z  \\\n",
       "carat  1.000000  0.028224  0.181618  0.921591  0.975094  0.951722  0.953387   \n",
       "depth  0.028224  1.000000 -0.295779 -0.010647 -0.025289 -0.029341  0.094924   \n",
       "table  0.181618 -0.295779  1.000000  0.127134  0.195344  0.183760  0.150929   \n",
       "price  0.921591 -0.010647  0.127134  1.000000  0.884435  0.865421  0.861249   \n",
       "x      0.975094 -0.025289  0.195344  0.884435  1.000000  0.974701  0.970772   \n",
       "y      0.951722 -0.029341  0.183760  0.865421  0.974701  1.000000  0.952006   \n",
       "z      0.953387  0.094924  0.150929  0.861249  0.970772  0.952006  1.000000   \n",
       "size   0.976308  0.009157  0.167400  0.902385  0.956564  0.975143  0.950065   \n",
       "\n",
       "           size  \n",
       "carat  0.976308  \n",
       "depth  0.009157  \n",
       "table  0.167400  \n",
       "price  0.902385  \n",
       "x      0.956564  \n",
       "y      0.975143  \n",
       "z      0.950065  \n",
       "size   1.000000  "
      ]
     },
     "execution_count": 87,
     "metadata": {},
     "output_type": "execute_result"
    }
   ],
   "source": [
    "#correlation table\n",
    "data.corr() "
   ]
  },
  {
   "cell_type": "code",
   "execution_count": 88,
   "metadata": {
    "scrolled": true
   },
   "outputs": [
    {
     "data": {
      "image/png": "[encoded data removed]",
      "text/plain": [
       "<Figure size 432x288 with 2 Axes>"
      ]
     },
     "metadata": {
      "needs_background": "light"
     },
     "output_type": "display_data"
    }
   ],
   "source": [
    "sns.heatmap(data.corr() , cmap='coolwarm',\n",
    "            center=0, annot=True)\n",
    "\n",
    "# Set title and axis labels\n",
    "plt.title('Correlation Matrix Heatmap')\n",
    "plt.xlabel('Features')\n",
    "plt.ylabel('Features')\n",
    "\n",
    "# Show plot\n",
    "plt.show()"
   ]
  },
  {
   "cell_type": "code",
   "execution_count": 89,
   "metadata": {},
   "outputs": [],
   "source": [
    "#converting categorical variables into numerical values to predict price of a diamond\n",
    "data[\"cut\"] = data[\"cut\"].map({\"Ideal\": 1, \n",
    "                               \"Premium\": 2, \n",
    "                               \"Good\": 3,\n",
    "                               \"Very Good\": 4,\n",
    "                               \"Fair\": 5})"
   ]
  },
  {
   "cell_type": "markdown",
   "metadata": {},
   "source": [
    "1. Compared to other diamonds, premium cut diamonds are comparatively larger.\n",
    "2. The size of every diamond and its price have a linear connection.\n",
    "  which comes to the conclusion that the most useful characteristics for predicting diamond prices are cut type, carat, and size.\n",
    "\n",
    " Additionally, we can forecast diamond prices using a linear regression model because the variables have a linear relationship."
   ]
  },
  {
   "cell_type": "code",
   "execution_count": 90,
   "metadata": {},
   "outputs": [],
   "source": [
    "X = np.array(data[[\"carat\", \"cut\", \"size\"]])\n",
    "Y = np.array(data[[\"price\"]])\n"
   ]
  },
  {
   "cell_type": "code",
   "execution_count": 91,
   "metadata": {},
   "outputs": [],
   "source": [
    "#splitting data\n",
    "from sklearn.model_selection import train_test_split\n",
    "X_train,X_test,Y_train,Y_test=train_test_split(X,Y,test_size=0.10,random_state=42)"
   ]
  },
  {
   "cell_type": "code",
   "execution_count": 92,
   "metadata": {},
   "outputs": [],
   "source": [
    "#Training linear regression for the task of Diamond price prediction\n",
    "from sklearn.linear_model import LinearRegression\n"
   ]
  },
  {
   "cell_type": "code",
   "execution_count": 93,
   "metadata": {},
   "outputs": [],
   "source": [
    "reg=LinearRegression()"
   ]
  },
  {
   "cell_type": "code",
   "execution_count": 94,
   "metadata": {},
   "outputs": [
    {
     "data": {
      "text/plain": [
       "LinearRegression()"
      ]
     },
     "execution_count": 94,
     "metadata": {},
     "output_type": "execute_result"
    }
   ],
   "source": [
    "reg.fit(X_train,Y_train)"
   ]
  },
  {
   "cell_type": "code",
   "execution_count": 95,
   "metadata": {},
   "outputs": [
    {
     "data": {
      "text/plain": [
       "0.8512284941934997"
      ]
     },
     "execution_count": 95,
     "metadata": {},
     "output_type": "execute_result"
    }
   ],
   "source": [
    "reg.score(X_test,Y_test)"
   ]
  },
  {
   "cell_type": "code",
   "execution_count": 96,
   "metadata": {},
   "outputs": [
    {
     "name": "stdout",
     "output_type": "stream",
     "text": [
      "85.12284941934996\n"
     ]
    }
   ],
   "source": [
    "score=reg.score(X_test,Y_test)\n",
    "print(score*100)"
   ]
  },
  {
   "cell_type": "code",
   "execution_count": 97,
   "metadata": {},
   "outputs": [
    {
     "name": "stdout",
     "output_type": "stream",
     "text": [
      "[[ 7.50848204e+03 -1.79985514e+02  1.92420627e+00]]\n"
     ]
    }
   ],
   "source": [
    "print(reg.coef_)"
   ]
  },
  {
   "cell_type": "code",
   "execution_count": 98,
   "metadata": {},
   "outputs": [
    {
     "name": "stdout",
     "output_type": "stream",
     "text": [
      "[-1905.74720607]\n"
     ]
    }
   ],
   "source": [
    "print(reg.intercept_)"
   ]
  },
  {
   "cell_type": "code",
   "execution_count": 101,
   "metadata": {},
   "outputs": [
    {
     "name": "stdout",
     "output_type": "stream",
     "text": [
      "Predicted Diamond price = [[4055.13864003]]\n"
     ]
    }
   ],
   "source": [
    "print('Predicted Diamond price =', reg.predict([[0.81,2,124.20]]))"
   ]
  },
  {
   "cell_type": "code",
   "execution_count": null,
   "metadata": {},
   "outputs": [],
   "source": []
  },
  {
   "cell_type": "code",
   "execution_count": null,
   "metadata": {},
   "outputs": [],
   "source": []
  }
 ],
 "metadata": {
  "kernelspec": {
   "display_name": "Python 3",
   "language": "python",
   "name": "python3"
  },
  "language_info": {
   "codemirror_mode": {
    "name": "ipython",
    "version": 3
   },
   "file_extension": ".py",
   "mimetype": "text/x-python",
   "name": "python",
   "nbconvert_exporter": "python",
   "pygments_lexer": "ipython3",
   "version": "3.8.3"
  }
 },
 "nbformat": 4,
 "nbformat_minor": 4
}
