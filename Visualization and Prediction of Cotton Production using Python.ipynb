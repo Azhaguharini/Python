{
 "cells": [
  {
   "cell_type": "markdown",
   "metadata": {},
   "source": [
    "# Visualisation of Cotton production data using Python"
   ]
  },
  {
   "cell_type": "code",
   "execution_count": 2,
   "metadata": {},
   "outputs": [],
   "source": [
    "# imorting libraries\n",
    "import pandas as pd\n",
    "import seaborn as sns\n",
    "import matplotlib.pyplot as plt"
   ]
  },
  {
   "cell_type": "code",
   "execution_count": 3,
   "metadata": {},
   "outputs": [],
   "source": [
    "#load the datset\n",
    "data = pd.read_csv(\"Cotton_Textile_Table_2.csv\")"
   ]
  },
  {
   "cell_type": "code",
   "execution_count": 4,
   "metadata": {},
   "outputs": [
    {
     "data": {
      "text/plain": [
       "(10, 16)"
      ]
     },
     "execution_count": 4,
     "metadata": {},
     "output_type": "execute_result"
    }
   ],
   "source": [
    "data.shape"
   ]
  },
  {
   "cell_type": "code",
   "execution_count": 5,
   "metadata": {},
   "outputs": [
    {
     "data": {
      "text/html": [
       "<div>\n",
       "<style scoped>\n",
       "    .dataframe tbody tr th:only-of-type {\n",
       "        vertical-align: middle;\n",
       "    }\n",
       "\n",
       "    .dataframe tbody tr th {\n",
       "        vertical-align: top;\n",
       "    }\n",
       "\n",
       "    .dataframe thead th {\n",
       "        text-align: right;\n",
       "    }\n",
       "</style>\n",
       "<table border=\"1\" class=\"dataframe\">\n",
       "  <thead>\n",
       "    <tr style=\"text-align: right;\">\n",
       "      <th></th>\n",
       "      <th>Sl. No.</th>\n",
       "      <th>Country</th>\n",
       "      <th>2013-14 - Production</th>\n",
       "      <th>2013-14 - Consumption</th>\n",
       "      <th>2014-15 - Production</th>\n",
       "      <th>2014-15 - Consumption</th>\n",
       "      <th>2015-16 - Production</th>\n",
       "      <th>2015-16 - Consumption</th>\n",
       "      <th>2016-17 - Production</th>\n",
       "      <th>2016-17 - Consumption</th>\n",
       "      <th>2017-18 - Production</th>\n",
       "      <th>2017-18 - Consumption</th>\n",
       "      <th>2018-19 - Production</th>\n",
       "      <th>2018-19 - Consumption</th>\n",
       "      <th>2019-20 - Production</th>\n",
       "      <th>2019-20 - Consumption</th>\n",
       "    </tr>\n",
       "  </thead>\n",
       "  <tbody>\n",
       "    <tr>\n",
       "      <th>0</th>\n",
       "      <td>1</td>\n",
       "      <td>China (Main Land)</td>\n",
       "      <td>6.95</td>\n",
       "      <td>7.60</td>\n",
       "      <td>6.60</td>\n",
       "      <td>7.66</td>\n",
       "      <td>5.20</td>\n",
       "      <td>7.60</td>\n",
       "      <td>4.90</td>\n",
       "      <td>8.00</td>\n",
       "      <td>5.89</td>\n",
       "      <td>8.50</td>\n",
       "      <td>6.04</td>\n",
       "      <td>8.25</td>\n",
       "      <td>5.80</td>\n",
       "      <td>7.23</td>\n",
       "    </tr>\n",
       "    <tr>\n",
       "      <th>1</th>\n",
       "      <td>2</td>\n",
       "      <td>India</td>\n",
       "      <td>6.77</td>\n",
       "      <td>5.09</td>\n",
       "      <td>6.56</td>\n",
       "      <td>5.26</td>\n",
       "      <td>5.65</td>\n",
       "      <td>5.36</td>\n",
       "      <td>5.87</td>\n",
       "      <td>5.28</td>\n",
       "      <td>6.29</td>\n",
       "      <td>5.43</td>\n",
       "      <td>5.66</td>\n",
       "      <td>5.29</td>\n",
       "      <td>6.21</td>\n",
       "      <td>4.58</td>\n",
       "    </tr>\n",
       "    <tr>\n",
       "      <th>2</th>\n",
       "      <td>3</td>\n",
       "      <td>USA</td>\n",
       "      <td>2.81</td>\n",
       "      <td>0.77</td>\n",
       "      <td>3.55</td>\n",
       "      <td>0.78</td>\n",
       "      <td>2.81</td>\n",
       "      <td>0.75</td>\n",
       "      <td>3.74</td>\n",
       "      <td>0.77</td>\n",
       "      <td>4.56</td>\n",
       "      <td>0.77</td>\n",
       "      <td>4.00</td>\n",
       "      <td>0.63</td>\n",
       "      <td>4.34</td>\n",
       "      <td>0.47</td>\n",
       "    </tr>\n",
       "    <tr>\n",
       "      <th>3</th>\n",
       "      <td>4</td>\n",
       "      <td>Pakistan</td>\n",
       "      <td>2.07</td>\n",
       "      <td>2.47</td>\n",
       "      <td>2.31</td>\n",
       "      <td>2.49</td>\n",
       "      <td>1.54</td>\n",
       "      <td>2.15</td>\n",
       "      <td>1.66</td>\n",
       "      <td>2.15</td>\n",
       "      <td>1.80</td>\n",
       "      <td>2.35</td>\n",
       "      <td>1.67</td>\n",
       "      <td>2.36</td>\n",
       "      <td>1.46</td>\n",
       "      <td>2.34</td>\n",
       "    </tr>\n",
       "    <tr>\n",
       "      <th>4</th>\n",
       "      <td>5</td>\n",
       "      <td>Brazil</td>\n",
       "      <td>1.73</td>\n",
       "      <td>0.86</td>\n",
       "      <td>1.56</td>\n",
       "      <td>0.80</td>\n",
       "      <td>1.29</td>\n",
       "      <td>0.66</td>\n",
       "      <td>1.53</td>\n",
       "      <td>0.72</td>\n",
       "      <td>2.01</td>\n",
       "      <td>0.68</td>\n",
       "      <td>2.78</td>\n",
       "      <td>0.73</td>\n",
       "      <td>3.00</td>\n",
       "      <td>0.57</td>\n",
       "    </tr>\n",
       "  </tbody>\n",
       "</table>\n",
       "</div>"
      ],
      "text/plain": [
       "   Sl. No.            Country  2013-14 - Production  2013-14 - Consumption  \\\n",
       "0        1  China (Main Land)                  6.95                   7.60   \n",
       "1        2              India                  6.77                   5.09   \n",
       "2        3                USA                  2.81                   0.77   \n",
       "3        4           Pakistan                  2.07                   2.47   \n",
       "4        5             Brazil                  1.73                   0.86   \n",
       "\n",
       "   2014-15 - Production  2014-15 - Consumption  2015-16 - Production  \\\n",
       "0                  6.60                   7.66                  5.20   \n",
       "1                  6.56                   5.26                  5.65   \n",
       "2                  3.55                   0.78                  2.81   \n",
       "3                  2.31                   2.49                  1.54   \n",
       "4                  1.56                   0.80                  1.29   \n",
       "\n",
       "   2015-16 - Consumption  2016-17 - Production  2016-17 - Consumption  \\\n",
       "0                   7.60                  4.90                   8.00   \n",
       "1                   5.36                  5.87                   5.28   \n",
       "2                   0.75                  3.74                   0.77   \n",
       "3                   2.15                  1.66                   2.15   \n",
       "4                   0.66                  1.53                   0.72   \n",
       "\n",
       "   2017-18 - Production  2017-18 - Consumption  2018-19 - Production  \\\n",
       "0                  5.89                   8.50                  6.04   \n",
       "1                  6.29                   5.43                  5.66   \n",
       "2                  4.56                   0.77                  4.00   \n",
       "3                  1.80                   2.35                  1.67   \n",
       "4                  2.01                   0.68                  2.78   \n",
       "\n",
       "   2018-19 - Consumption  2019-20 - Production  2019-20 - Consumption  \n",
       "0                   8.25                  5.80                   7.23  \n",
       "1                   5.29                  6.21                   4.58  \n",
       "2                   0.63                  4.34                   0.47  \n",
       "3                   2.36                  1.46                   2.34  \n",
       "4                   0.73                  3.00                   0.57  "
      ]
     },
     "execution_count": 5,
     "metadata": {},
     "output_type": "execute_result"
    }
   ],
   "source": [
    "#display top 5 values\n",
    "data.head()"
   ]
  },
  {
   "cell_type": "code",
   "execution_count": 6,
   "metadata": {},
   "outputs": [
    {
     "name": "stdout",
     "output_type": "stream",
     "text": [
      "<class 'pandas.core.frame.DataFrame'>\n",
      "RangeIndex: 10 entries, 0 to 9\n",
      "Data columns (total 16 columns):\n",
      " #   Column                 Non-Null Count  Dtype  \n",
      "---  ------                 --------------  -----  \n",
      " 0   Sl. No.                10 non-null     int64  \n",
      " 1   Country                10 non-null     object \n",
      " 2   2013-14 - Production   10 non-null     float64\n",
      " 3   2013-14 - Consumption  10 non-null     float64\n",
      " 4   2014-15 - Production   10 non-null     float64\n",
      " 5   2014-15 - Consumption  10 non-null     float64\n",
      " 6   2015-16 - Production   10 non-null     float64\n",
      " 7   2015-16 - Consumption  10 non-null     float64\n",
      " 8   2016-17 - Production   10 non-null     float64\n",
      " 9   2016-17 - Consumption  10 non-null     float64\n",
      " 10  2017-18 - Production   10 non-null     float64\n",
      " 11  2017-18 - Consumption  10 non-null     float64\n",
      " 12  2018-19 - Production   10 non-null     float64\n",
      " 13  2018-19 - Consumption  10 non-null     float64\n",
      " 14  2019-20 - Production   10 non-null     float64\n",
      " 15  2019-20 - Consumption  10 non-null     float64\n",
      "dtypes: float64(14), int64(1), object(1)\n",
      "memory usage: 1.4+ KB\n"
     ]
    }
   ],
   "source": [
    "data.info()"
   ]
  },
  {
   "cell_type": "code",
   "execution_count": 7,
   "metadata": {},
   "outputs": [
    {
     "data": {
      "text/plain": [
       "Sl. No.                    int64\n",
       "Country                   object\n",
       "2013-14 - Production     float64\n",
       "2013-14 - Consumption    float64\n",
       "2014-15 - Production     float64\n",
       "2014-15 - Consumption    float64\n",
       "2015-16 - Production     float64\n",
       "2015-16 - Consumption    float64\n",
       "2016-17 - Production     float64\n",
       "2016-17 - Consumption    float64\n",
       "2017-18 - Production     float64\n",
       "2017-18 - Consumption    float64\n",
       "2018-19 - Production     float64\n",
       "2018-19 - Consumption    float64\n",
       "2019-20 - Production     float64\n",
       "2019-20 - Consumption    float64\n",
       "dtype: object"
      ]
     },
     "execution_count": 7,
     "metadata": {},
     "output_type": "execute_result"
    }
   ],
   "source": [
    "data.dtypes"
   ]
  },
  {
   "cell_type": "code",
   "execution_count": 8,
   "metadata": {},
   "outputs": [
    {
     "data": {
      "text/plain": [
       "<matplotlib.axes._subplots.AxesSubplot at 0x2cf69345be0>"
      ]
     },
     "execution_count": 8,
     "metadata": {},
     "output_type": "execute_result"
    },
    {
     "data": {
      "image/png": "[encoded data removed]",
      "text/plain": [
       "<Figure size 432x288 with 1 Axes>"
      ]
     },
     "metadata": {
      "needs_background": "light"
     },
     "output_type": "display_data"
    }
   ],
   "source": [
    "# 2013-14 cotton production data in histogram analysis\n",
    "data['2013-14 - Production'].hist()"
   ]
  },
  {
   "cell_type": "code",
   "execution_count": 9,
   "metadata": {},
   "outputs": [
    {
     "data": {
      "text/plain": [
       "<matplotlib.axes._subplots.AxesSubplot at 0x2cf69ac27f0>"
      ]
     },
     "execution_count": 9,
     "metadata": {},
     "output_type": "execute_result"
    },
    {
     "data": {
      "image/png": "[encoded data removed]",
      "text/plain": [
       "<Figure size 432x288 with 1 Axes>"
      ]
     },
     "metadata": {
      "needs_background": "light"
     },
     "output_type": "display_data"
    }
   ],
   "source": [
    "# 2013-14 Cotton consumption in histogram analysis\n",
    "data['2013-14 - Consumption'].hist()"
   ]
  },
  {
   "cell_type": "code",
   "execution_count": 10,
   "metadata": {},
   "outputs": [
    {
     "data": {
      "text/plain": [
       "<matplotlib.axes._subplots.AxesSubplot at 0x2cf69b43a00>"
      ]
     },
     "execution_count": 10,
     "metadata": {},
     "output_type": "execute_result"
    },
    {
     "data": {
      "image/png": "[encoded data removed]",
      "text/plain": [
       "<Figure size 432x288 with 1 Axes>"
      ]
     },
     "metadata": {
      "needs_background": "light"
     },
     "output_type": "display_data"
    }
   ],
   "source": [
    "data['2019-20 - Production'].hist()"
   ]
  },
  {
   "cell_type": "code",
   "execution_count": 11,
   "metadata": {},
   "outputs": [
    {
     "data": {
      "text/plain": [
       "<matplotlib.axes._subplots.AxesSubplot at 0x2cf69bc1070>"
      ]
     },
     "execution_count": 11,
     "metadata": {},
     "output_type": "execute_result"
    },
    {
     "data": {
      "image/png": "[encoded data removed]",
      "text/plain": [
       "<Figure size 432x288 with 1 Axes>"
      ]
     },
     "metadata": {
      "needs_background": "light"
     },
     "output_type": "display_data"
    }
   ],
   "source": [
    "data['2019-20 - Consumption'].hist()"
   ]
  },
  {
   "cell_type": "code",
   "execution_count": 12,
   "metadata": {},
   "outputs": [
    {
     "data": {
      "text/plain": [
       "array([[<matplotlib.axes._subplots.AxesSubplot object at 0x000002CF69C0FA90>,\n",
       "        <matplotlib.axes._subplots.AxesSubplot object at 0x000002CF69C57160>,\n",
       "        <matplotlib.axes._subplots.AxesSubplot object at 0x000002CF69C83550>],\n",
       "       [<matplotlib.axes._subplots.AxesSubplot object at 0x000002CF69CB09A0>,\n",
       "        <matplotlib.axes._subplots.AxesSubplot object at 0x000002CF69CDCE20>,\n",
       "        <matplotlib.axes._subplots.AxesSubplot object at 0x000002CF69D151F0>],\n",
       "       [<matplotlib.axes._subplots.AxesSubplot object at 0x000002CF69D152E0>,\n",
       "        <matplotlib.axes._subplots.AxesSubplot object at 0x000002CF69D6EB80>,\n",
       "        <matplotlib.axes._subplots.AxesSubplot object at 0x000002CF69D9A0D0>]],\n",
       "      dtype=object)"
      ]
     },
     "execution_count": 12,
     "metadata": {},
     "output_type": "execute_result"
    },
    {
     "data": {
      "image/png": "[encoded data removed]",
      "text/plain": [
       "<Figure size 432x288 with 9 Axes>"
      ]
     },
     "metadata": {
      "needs_background": "light"
     },
     "output_type": "display_data"
    }
   ],
   "source": [
    "#displaying all year cotton production data\n",
    "data[[\"2013-14 - Production\" , \"2014-15 - Production\" , \"2015-16 - Production\" , \"2016-17 - Production\" , \"2017-18 - Production\" , \"2018-19 - Production\" , \"2019-20 - Production\"]].hist()"
   ]
  },
  {
   "cell_type": "code",
   "execution_count": 13,
   "metadata": {},
   "outputs": [
    {
     "data": {
      "text/plain": [
       "array([[<matplotlib.axes._subplots.AxesSubplot object at 0x000002CF69EA7E80>,\n",
       "        <matplotlib.axes._subplots.AxesSubplot object at 0x000002CF69F31FD0>,\n",
       "        <matplotlib.axes._subplots.AxesSubplot object at 0x000002CF69F67700>],\n",
       "       [<matplotlib.axes._subplots.AxesSubplot object at 0x000002CF69F91E50>,\n",
       "        <matplotlib.axes._subplots.AxesSubplot object at 0x000002CF69FC6610>,\n",
       "        <matplotlib.axes._subplots.AxesSubplot object at 0x000002CF69FEECD0>],\n",
       "       [<matplotlib.axes._subplots.AxesSubplot object at 0x000002CF69FEEDC0>,\n",
       "        <matplotlib.axes._subplots.AxesSubplot object at 0x000002CF6A04CD00>,\n",
       "        <matplotlib.axes._subplots.AxesSubplot object at 0x000002CF6A075580>]],\n",
       "      dtype=object)"
      ]
     },
     "execution_count": 13,
     "metadata": {},
     "output_type": "execute_result"
    },
    {
     "data": {
      "image/png": "[encoded data removed]",
      "text/plain": [
       "<Figure size 432x288 with 9 Axes>"
      ]
     },
     "metadata": {
      "needs_background": "light"
     },
     "output_type": "display_data"
    }
   ],
   "source": [
    "# displaying all year cotton consumption data\n",
    "data[[\"2013-14 - Consumption\" , \"2014-15 - Consumption\" , \"2015-16 - Consumption\" , \"2016-17 - Consumption\" , \"2017-18 - Consumption\" , \"2018-19 - Consumption\" , \"2019-20 - Consumption\"]].hist()"
   ]
  },
  {
   "cell_type": "code",
   "execution_count": 14,
   "metadata": {},
   "outputs": [
    {
     "data": {
      "text/plain": [
       "<matplotlib.axes._subplots.AxesSubplot at 0x2cf69ee3850>"
      ]
     },
     "execution_count": 14,
     "metadata": {},
     "output_type": "execute_result"
    },
    {
     "data": {
      "image/png": "[encoded data removed]",
      "text/plain": [
       "<Figure size 432x288 with 1 Axes>"
      ]
     },
     "metadata": {},
     "output_type": "display_data"
    }
   ],
   "source": [
    "#plotting data using boxplot\n",
    "sns.set_style(\"whitegrid\")\n",
    "sns.boxplot(x='2013-14 - Production', y='2019-20 - Production' , data=data)"
   ]
  },
  {
   "cell_type": "code",
   "execution_count": 15,
   "metadata": {},
   "outputs": [
    {
     "data": {
      "text/plain": [
       "<matplotlib.axes._subplots.AxesSubplot at 0x2cf69c8edf0>"
      ]
     },
     "execution_count": 15,
     "metadata": {},
     "output_type": "execute_result"
    },
    {
     "data": {
      "image/png": "[encoded data removed]",
      "text/plain": [
       "<Figure size 432x288 with 1 Axes>"
      ]
     },
     "metadata": {},
     "output_type": "display_data"
    }
   ],
   "source": [
    "# scatter plot of 2019-20 production data vs 2019-20 consumption \n",
    "data.plot.scatter('2019-20 - Production','2019-20 - Consumption')"
   ]
  },
  {
   "cell_type": "code",
   "execution_count": 16,
   "metadata": {},
   "outputs": [
    {
     "data": {
      "image/png": "[encoded data removed]",
      "text/plain": [
       "<Figure size 432x288 with 1 Axes>"
      ]
     },
     "metadata": {},
     "output_type": "display_data"
    }
   ],
   "source": [
    "#line plot comparing 2013-14 production and 2019-20 production\n",
    "import matplotlib.pyplot as plt\n",
    "plt.plot(data['2013-14 - Production'],data['2019-20 - Production'])\n",
    " \n",
    "plt.show()"
   ]
  },
  {
   "cell_type": "code",
   "execution_count": 17,
   "metadata": {},
   "outputs": [
    {
     "data": {
      "image/png": "[encoded data removed]",
      "text/plain": [
       "<Figure size 432x288 with 1 Axes>"
      ]
     },
     "metadata": {},
     "output_type": "display_data"
    }
   ],
   "source": [
    "import matplotlib.pyplot as plt\n",
    "plt.plot(data['2013-14 - Consumption'],data['2019-20 - Consumption'])\n",
    " \n",
    "plt.show()"
   ]
  },
  {
   "cell_type": "code",
   "execution_count": 26,
   "metadata": {},
   "outputs": [
    {
     "name": "stdout",
     "output_type": "stream",
     "text": [
      "1.0117423764828033 -0.004013388204645807 0.9994247070364073 4.788885558253207e-13 0.012138692891307621\n"
     ]
    }
   ],
   "source": [
    "# linear regression 2018-19 production vs 2019-20 production\n",
    "import matplotlib.pyplot as plt\n",
    "from scipy import stats\n",
    " \n",
    " \n",
    "x = data['2018-19 - Production']\n",
    "y = data['2019-20 - Production']\n",
    " \n",
    " \n",
    "slope, intercept, r, p, std_err = stats.linregress(x, y)\n",
    "print(slope, intercept, r, p, std_err)"
   ]
  },
  {
   "cell_type": "code",
   "execution_count": 27,
   "metadata": {},
   "outputs": [
    {
     "data": {
      "image/png": "[encoded data removed]",
      "text/plain": [
       "<Figure size 432x288 with 1 Axes>"
      ]
     },
     "metadata": {},
     "output_type": "display_data"
    }
   ],
   "source": [
    "# define a function to return slope\n",
    "def func1(x):\n",
    "    return slope * x + intercept\n",
    " \n",
    " \n",
    "model1 = list(map(func1, x))\n",
    " \n",
    "# scatter\n",
    "plt.scatter(x, y)\n",
    " \n",
    "# plotting the data\n",
    "plt.plot(x, model1)\n",
    " \n",
    "# display the figure\n",
    "plt.show()"
   ]
  },
  {
   "cell_type": "code",
   "execution_count": 28,
   "metadata": {},
   "outputs": [
    {
     "name": "stdout",
     "output_type": "stream",
     "text": [
      "0.9897560612621904 0.07261677535369593 0.9943788858019761 4.338456087264186e-09 0.03726029770454731\n"
     ]
    }
   ],
   "source": [
    "import matplotlib.pyplot as plt\n",
    "from scipy import stats\n",
    " \n",
    " \n",
    "x = data['2013-14 - Production']\n",
    "y = data['2019-20 - Production']\n",
    " \n",
    " \n",
    "slope, intercept, r, p, std_err = stats.linregress(x, y)\n",
    "print(slope, intercept, r, p, std_err)"
   ]
  },
  {
   "cell_type": "code",
   "execution_count": 29,
   "metadata": {},
   "outputs": [
    {
     "data": {
      "image/png": "[encoded data removed]",
      "text/plain": [
       "<Figure size 432x288 with 1 Axes>"
      ]
     },
     "metadata": {},
     "output_type": "display_data"
    }
   ],
   "source": [
    "def func2(x):\n",
    "    return slope * x + intercept\n",
    " \n",
    " \n",
    "model2 = list(map(func2, x))\n",
    " \n",
    "# scatter\n",
    "plt.scatter(x, y)\n",
    " \n",
    "# plotting the data\n",
    "plt.plot(x, model2)\n",
    " \n",
    "# display the figure\n",
    "plt.show()"
   ]
  },
  {
   "cell_type": "code",
   "execution_count": 30,
   "metadata": {},
   "outputs": [
    {
     "name": "stdout",
     "output_type": "stream",
     "text": [
      "[6.106910565751486, 5.722448462688021, 4.042956117726567, 1.6855963805216356, 2.8086304184175472, 0.6435017327443483, -0.004013388204645807, 0.036456306854666325, 5.206459850681791, 26.281053552818584]\n"
     ]
    }
   ],
   "source": [
    "print(model1)"
   ]
  },
  {
   "cell_type": "code",
   "execution_count": 31,
   "metadata": {},
   "outputs": [
    {
     "name": "stdout",
     "output_type": "stream",
     "text": [
      "[6.951421401125919, 6.773265310098725, 2.853831307500451, 2.1214118221664298, 1.7848947613372852, 0.9732947911022892, 0.07261677535369593, 0.10230945719156163, 4.922421475538429, 25.974532898585217]\n"
     ]
    }
   ],
   "source": [
    "print(model2)"
   ]
  },
  {
   "cell_type": "code",
   "execution_count": null,
   "metadata": {},
   "outputs": [],
   "source": []
  }
 ],
 "metadata": {
  "kernelspec": {
   "display_name": "Python 3",
   "language": "python",
   "name": "python3"
  },
  "language_info": {
   "codemirror_mode": {
    "name": "ipython",
    "version": 3
   },
   "file_extension": ".py",
   "mimetype": "text/x-python",
   "name": "python",
   "nbconvert_exporter": "python",
   "pygments_lexer": "ipython3",
   "version": "3.8.3"
  }
 },
 "nbformat": 4,
 "nbformat_minor": 4
}
